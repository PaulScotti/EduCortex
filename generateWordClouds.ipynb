{
 "cells": [
  {
   "cell_type": "code",
   "execution_count": 72,
   "metadata": {},
   "outputs": [],
   "source": [
    "from neurosynth import meta, decode, network, Dataset\n",
    "import pandas\n",
    "import os\n",
    "import numpy as np\n",
    "from matplotlib import pyplot as plt\n",
    "from sklearn.decomposition import PCA\n",
    "from sklearn.preprocessing import scale, MinMaxScaler\n",
    "from nilearn import plotting\n",
    "import nilearn\n",
    "import pickle\n",
    "import cortex\n",
    "from scipy import spatial\n"
   ]
  },
  {
   "cell_type": "code",
   "execution_count": 73,
   "metadata": {},
   "outputs": [],
   "source": [
    "dataset = pickle.load( open( \"dataset.p\", \"rb\" ) )\n",
    "# dataset = Dataset('neurosynth-data/database.txt')"
   ]
  },
  {
   "cell_type": "code",
   "execution_count": 74,
   "metadata": {},
   "outputs": [],
   "source": [
    "terms = pandas.read_csv('neurosynth-data//analysis_filter_list.tsv',delimiter='\\t')"
   ]
  },
  {
   "cell_type": "code",
   "execution_count": 75,
   "metadata": {},
   "outputs": [],
   "source": [
    "kept_terms = terms['term'][terms['keep']==1]\n",
    "np.savez(\"neurosynth_terms\",'kept_terms')"
   ]
  },
  {
   "cell_type": "code",
   "execution_count": null,
   "metadata": {},
   "outputs": [],
   "source": [
    "# maps = {}\n",
    "# for term in kept_terms:\n",
    "#     ids = dataset.get_studies(term)\n",
    "#     ma = meta.MetaAnalysis(dataset, ids)\n",
    "#     maps[term] = ma.images['association-test_z']\n",
    "#     ma.save_results(os.path.join('neurosynth-data','maps',term))\n",
    "    "
   ]
  },
  {
   "cell_type": "code",
   "execution_count": null,
   "metadata": {},
   "outputs": [],
   "source": [
    "# concat_maps = np.vstack((maps[k] for k in maps.keys()))\n"
   ]
  },
  {
   "cell_type": "code",
   "execution_count": 76,
   "metadata": {},
   "outputs": [],
   "source": [
    "concat_maps = pickle.load(open(\"concat_maps.p\",\"rb\"))"
   ]
  },
  {
   "cell_type": "code",
   "execution_count": 77,
   "metadata": {},
   "outputs": [
    {
     "name": "stdout",
     "output_type": "stream",
     "text": [
      "[0.10724451 0.07186315 0.04695774 0.03718591 0.03011859 0.02566107\n",
      " 0.01888798 0.01386358 0.01315753 0.01177422]\n",
      "[7371.67572625 6034.36808339 4877.89306864 4340.78108748 3906.57327303\n",
      " 3605.9198214  3093.65168397 2650.43018515 2582.05705093 2442.55709174]\n"
     ]
    }
   ],
   "source": [
    "pca = PCA(copy=True, iterated_power='auto', n_components=10, random_state=None,\n",
    "  svd_solver='randomized', tol=0.0, whiten=False).fit(concat_maps)\n",
    "print(pca.explained_variance_ratio_)  \n",
    "print(pca.singular_values_)  "
   ]
  },
  {
   "cell_type": "code",
   "execution_count": 78,
   "metadata": {},
   "outputs": [],
   "source": [
    "components = np.array([dataset.masker.unmask(pca.components_[i],output='array') for i in range(10)])\n",
    "np.savez('components',components)"
   ]
  },
  {
   "cell_type": "code",
   "execution_count": 79,
   "metadata": {},
   "outputs": [],
   "source": [
    "term_weights = pca.transform(concat_maps)\n",
    "np.savez('term_weights',term_weights)"
   ]
  },
  {
   "cell_type": "code",
   "execution_count": 80,
   "metadata": {},
   "outputs": [],
   "source": [
    "a = term_weights[:,5].argsort()[::-1]"
   ]
  },
  {
   "cell_type": "markdown",
   "metadata": {},
   "source": [
    "Exctract Convex Hull of first 3 components"
   ]
  },
  {
   "cell_type": "code",
   "execution_count": 81,
   "metadata": {},
   "outputs": [
    {
     "data": {
      "image/png": "[encoded data removed]",
      "text/plain": [
       "<Figure size 432x288 with 1 Axes>"
      ]
     },
     "metadata": {
      "needs_background": "light"
     },
     "output_type": "display_data"
    }
   ],
   "source": [
    "first_three = term_weights[:,:3]\n",
    "hull = spatial.ConvexHull(first_three)\n",
    "vertices = first_three[hull.vertices,:]\n",
    "\n",
    "pca = PCA(copy=True, iterated_power='auto', n_components=2, random_state=None,\n",
    "  svd_solver='randomized', tol=0.0, whiten=False).fit(vertices)\n",
    "twod_projection = pca.transform(vertices)\n",
    "twod_projection\n",
    "\n",
    "\n",
    "scaler = MinMaxScaler(feature_range=(0, 1))\n",
    "scaler = scaler.fit(first_three)\n",
    "colors = scaler.transform(first_three[hull.vertices,:])\n",
    "\n",
    "fig, ax = plt.subplots()\n",
    "ax.scatter(twod_projection[:,0], twod_projection[:,1], s=0)\n",
    "# fig.patch.set_visible(False)\n",
    "ax.axis('off')\n",
    "for i in range(twod_projection.shape[0]):\n",
    "    ax.text(twod_projection[i,0],twod_projection[i,1],kept_terms.iloc[hull.vertices[i]], color = colors[i,:], fontweight='bold')\n",
    "    \n",
    "plt.savefig('wordCloud.png', format='png',dpi=300,transparent=True)\n"
   ]
  }
 ],
 "metadata": {
  "kernelspec": {
   "display_name": "Python 3",
   "language": "python",
   "name": "python3"
  },
  "language_info": {
   "codemirror_mode": {
    "name": "ipython",
    "version": 3
   },
   "file_extension": ".py",
   "mimetype": "text/x-python",
   "name": "python",
   "nbconvert_exporter": "python",
   "pygments_lexer": "ipython3",
   "version": "3.7.3"
  }
 },
 "nbformat": 4,
 "nbformat_minor": 2
}
