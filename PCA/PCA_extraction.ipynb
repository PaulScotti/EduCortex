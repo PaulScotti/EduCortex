{
 "cells": [
  {
   "cell_type": "markdown",
   "metadata": {},
   "source": [
    "## PCA extraction from Neurosynth"
   ]
  },
  {
   "cell_type": "code",
   "execution_count": 1,
   "metadata": {
    "scrolled": true
   },
   "outputs": [
    {
     "name": "stderr",
     "output_type": "stream",
     "text": [
      "/home/matanm/anaconda3/lib/python3.7/site-packages/sklearn/externals/joblib/__init__.py:15: DeprecationWarning: sklearn.externals.joblib is deprecated in 0.21 and will be removed in 0.23. Please import this functionality directly from joblib, which can be installed with: pip install joblib. If this warning is raised when loading pickled models, you may need to re-serialize those models with scikit-learn 0.21+.\n",
      "  warnings.warn(msg, category=DeprecationWarning)\n"
     ]
    }
   ],
   "source": [
    "from neurosynth import meta, decode, network, Dataset # to work with the neurosynth dataset\n",
    "import pandas\n",
    "import os\n",
    "import numpy as np\n",
    "from matplotlib import pyplot as plt # to plot some things here\n",
    "from sklearn.decomposition import PCA # to run PCA \n",
    "from sklearn.preprocessing import scale, MinMaxScaler # to scale PCA scores to be between 0 and 255, for visualization\n",
    "from nilearn import plotting # to plot brain slices\n",
    "import nilearn\n",
    "import pickle # to load existing files\n",
    "from scipy import spatial # to extract the convex hull"
   ]
  },
  {
   "cell_type": "code",
   "execution_count": 3,
   "metadata": {},
   "outputs": [],
   "source": [
    "# to avoid running this command I pickled a local version of the output:\n",
    "# dataset = pickle.load( open( \"neurosynth-data/dataset.p\", \"rb\" ) )\n",
    "\n",
    "# the neurosynth database can be downloaded from https://github.com/neurosynth/neurosynth-data\n",
    "dataset = Dataset('neurosynth-data/database.txt')"
   ]
  },
  {
   "cell_type": "code",
   "execution_count": 8,
   "metadata": {},
   "outputs": [],
   "source": [
    "# this is a list of all neurosynth terms\n",
    "terms = pandas.read_csv('neurosynth-data//analysis_filter_list.tsv',delimiter='\\t')\n",
    "# but we're only interested in the terms that are non-anatomical\n",
    "terms_anatfilter = pandas.read_csv('..//data//neurosynth_terms_anatfilter.txt',delimiter='\\t')"
   ]
  },
  {
   "cell_type": "code",
   "execution_count": 10,
   "metadata": {},
   "outputs": [],
   "source": [
    "# only keep terms that have a 'keep' value of 1 and n 'anatmoical' value of 0\n",
    "kept_terms_anatfilter = terms_anatfilter['term'][np.logical_and(terms_anatfilter['keep']==1, terms_anatfilter['anatomical']==0)]\n",
    "# we will take these terms and find their location in a list that is ordered alphabetically\n",
    "kept_terms = terms['term'][terms['keep']==1]\n",
    "anatfilter_indices = [i for i,k in enumerate(list(kept_terms)) if k in list(kept_terms_anatfilter)]\n",
    "kept_terms_anatfilter = kept_terms.iloc[anatfilter_indices]"
   ]
  },
  {
   "cell_type": "code",
   "execution_count": 66,
   "metadata": {},
   "outputs": [],
   "source": [
    "# this step will take a few hours to run. It involves extracting and saving the brain map for each term.\n",
    "maps = {}\n",
    "for term in kept_terms:\n",
    "    ids = dataset.get_studies(term)\n",
    "    ma = meta.MetaAnalysis(dataset, ids)\n",
    "    maps[term] = ma.images['association-test_z']\n",
    "    ma.save_results(os.path.join('neurosynth-data','maps',term))"
   ]
  },
  {
   "cell_type": "code",
   "execution_count": 102,
   "metadata": {},
   "outputs": [
    {
     "name": "stderr",
     "output_type": "stream",
     "text": [
      "C:\\ProgramData\\Anaconda3\\lib\\site-packages\\ipykernel_launcher.py:1: FutureWarning: arrays to stack must be passed as a \"sequence\" type such as list or tuple. Support for non-sequence iterables such as generators is deprecated as of NumPy 1.16 and will raise an error in the future.\n",
      "  \"\"\"Entry point for launching an IPython kernel.\n"
     ]
    }
   ],
   "source": [
    "# and saving everything to one 2d array\n",
    "concat_maps = np.vstack((maps[k] for k in maps.keys()))"
   ]
  },
  {
   "cell_type": "code",
   "execution_count": 12,
   "metadata": {},
   "outputs": [],
   "source": [
    "# concat_maps = pickle.load(open(\"neurosynth-data/concat_maps.p\",\"rb\"))"
   ]
  },
  {
   "cell_type": "code",
   "execution_count": 14,
   "metadata": {},
   "outputs": [],
   "source": [
    "concat_maps_anatfilter = concat_maps[anatfilter_indices]"
   ]
  },
  {
   "cell_type": "code",
   "execution_count": 30,
   "metadata": {},
   "outputs": [
    {
     "data": {
      "text/plain": [
       "[<matplotlib.lines.Line2D at 0x7fa0d0d58ba8>]"
      ]
     },
     "execution_count": 30,
     "metadata": {},
     "output_type": "execute_result"
    },
    {
     "data": {
      "image/png": "[encoded data removed]",
      "text/plain": [
       "<Figure size 432x288 with 1 Axes>"
      ]
     },
     "metadata": {
      "needs_background": "light"
     },
     "output_type": "display_data"
    }
   ],
   "source": [
    "Apply PCA to the nonanatomical kept terms and print explained variance by component\n",
    "pca = PCA(copy=True, iterated_power='auto', n_components=10, random_state=None,\n",
    "    svd_solver='randomized', tol=0.0, whiten=False).fit(concat_maps_anatfilter)\n",
    "plt.plot(pca.explained_variance_ratio_, 'ro-') "
   ]
  },
  {
   "cell_type": "code",
   "execution_count": 19,
   "metadata": {},
   "outputs": [],
   "source": [
    "# save components\n",
    "components = np.array([dataset.masker.unmask(pca.components_[i],output='array') for i in range(10)])\n",
    "np.savez('../data/components',components)"
   ]
  },
  {
   "cell_type": "code",
   "execution_count": 20,
   "metadata": {},
   "outputs": [],
   "source": [
    "# save the loadings of each term\n",
    "term_weights = pca.transform(concat_maps)\n",
    "np.savez('term_weights',term_weights)"
   ]
  },
  {
   "cell_type": "code",
   "execution_count": 25,
   "metadata": {},
   "outputs": [
    {
     "data": {
      "text/plain": [
       "1863                   motor\n",
       "2264                premotor\n",
       "1877               movements\n",
       "2084                parietal\n",
       "2265         premotor cortex\n",
       "1876                movement\n",
       "1305                    hand\n",
       "1154                  finger\n",
       "2882           supplementary\n",
       "1043               execution\n",
       "2286           primary motor\n",
       "1865            motor cortex\n",
       "2883     supplementary motor\n",
       "1538           intraparietal\n",
       "2631            sensorimotor\n",
       "1867           motor imagery\n",
       "1539    intraparietal sulcus\n",
       "2935                   tasks\n",
       "884          dorsal premotor\n",
       "3144                  visual\n",
       "2880       superior parietal\n",
       "581            contralateral\n",
       "393               cerebellum\n",
       "2284                 primary\n",
       "3118        ventral premotor\n",
       "2871                  sulcus\n",
       "1155        finger movements\n",
       "1398                 imagery\n",
       "90                    action\n",
       "2740           somatosensory\n",
       "                ...         \n",
       "2011                     ofc\n",
       "1879                    mpfc\n",
       "2818                striatum\n",
       "2440              regulation\n",
       "733             default mode\n",
       "196       anterior cingulate\n",
       "2554                    risk\n",
       "732                  default\n",
       "3119        ventral striatum\n",
       "3124            ventromedial\n",
       "2732                  social\n",
       "2258              prefrontal\n",
       "1948                 neutral\n",
       "762               depression\n",
       "423         cingulate cortex\n",
       "2259       prefrontal cortex\n",
       "2530                 resting\n",
       "2217     posterior cingulate\n",
       "422                cingulate\n",
       "837                 disorder\n",
       "2531           resting state\n",
       "1363             hippocampus\n",
       "1760                  medial\n",
       "2037    orbitofrontal cortex\n",
       "2547                  reward\n",
       "1910                negative\n",
       "1765       medial prefrontal\n",
       "2036           orbitofrontal\n",
       "957                emotional\n",
       "172                 amygdala\n",
       "Name: term, Length: 1334, dtype: object"
      ]
     },
     "execution_count": 25,
     "metadata": {},
     "output_type": "execute_result"
    }
   ],
   "source": [
    "# print ordered list of terms for the first component\n",
    "kept_terms.iloc[term_weights[:,0].argsort()[::-1]]"
   ]
  },
  {
   "cell_type": "markdown",
   "metadata": {},
   "source": [
    "size(components)"
   ]
  }
 ],
 "metadata": {
  "kernelspec": {
   "display_name": "Python 3",
   "language": "python",
   "name": "python3"
  },
  "language_info": {
   "codemirror_mode": {
    "name": "ipython",
    "version": 3
   },
   "file_extension": ".py",
   "mimetype": "text/x-python",
   "name": "python",
   "nbconvert_exporter": "python",
   "pygments_lexer": "ipython3",
   "version": "3.7.3"
  }
 },
 "nbformat": 4,
 "nbformat_minor": 2
}
