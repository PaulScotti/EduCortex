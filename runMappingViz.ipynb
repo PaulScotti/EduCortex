{
 "cells": [
  {
   "cell_type": "code",
   "execution_count": 1,
   "metadata": {
    "code_folding": [
     10,
     42,
     43
    ],
    "scrolled": true
   },
   "outputs": [],
   "source": [
    "import os\n",
    "import numpy as np\n",
    "from matplotlib import pyplot as plt\n",
    "from sklearn.decomposition import PCA\n",
    "from neurosynth import meta, decode, network, Dataset # to work with the neurosynth dataset\n",
    "import nibabel as nib\n",
    "import pickle\n",
    "import pandas\n",
    "import cortex\n",
    "%matplotlib inline\n",
    "class MacOSFile(object):\n",
    "\n",
    "    def __init__(self, f):\n",
    "        self.f = f\n",
    "\n",
    "    def __getattr__(self, item):\n",
    "        return getattr(self.f, item)\n",
    "\n",
    "    def read(self, n):\n",
    "        # print(\"reading total_bytes=%s\" % n, flush=True)\n",
    "        if n >= (1 << 31):\n",
    "            buffer = bytearray(n)\n",
    "            idx = 0\n",
    "            while idx < n:\n",
    "                batch_size = min(n - idx, 1 << 31 - 1)\n",
    "                # print(\"reading bytes [%s,%s)...\" % (idx, idx + batch_size), end=\"\", flush=True)\n",
    "                buffer[idx:idx + batch_size] = self.f.read(batch_size)\n",
    "                # print(\"done.\", flush=True)\n",
    "                idx += batch_size\n",
    "            return buffer\n",
    "        return self.f.read(n)\n",
    "\n",
    "    def write(self, buffer):\n",
    "        n = len(buffer)\n",
    "        print(\"writing total_bytes=%s...\" % n, flush=True)\n",
    "        idx = 0\n",
    "        while idx < n:\n",
    "            batch_size = min(n - idx, 1 << 31 - 1)\n",
    "            print(\"writing bytes [%s, %s)... \" % (idx, idx + batch_size), end=\"\", flush=True)\n",
    "            self.f.write(buffer[idx:idx + batch_size])\n",
    "            print(\"done.\", flush=True)\n",
    "            idx += batch_size\n",
    "def pickle_dump(obj, file_path):\n",
    "    with open(file_path, \"wb\") as f:\n",
    "        return pickle.dump(obj, MacOSFile(f), protocol=pickle.HIGHEST_PROTOCOL)\n",
    "def pickle_load(file_path):\n",
    "    with open(file_path, \"rb\") as f:\n",
    "        return pickle.load(MacOSFile(f))"
   ]
  },
  {
   "cell_type": "markdown",
   "metadata": {},
   "source": [
    "# Visualization on freesurfer brain\n",
    "Run the below cell if all you want to do is to locally run the contents of paulscotti.github.io/EduCortex"
   ]
  },
  {
   "cell_type": "code",
   "execution_count": null,
   "metadata": {
    "scrolled": true
   },
   "outputs": [
    {
     "name": "stdout",
     "output_type": "stream",
     "text": [
      "Generating new ctm file...\n",
      "wm\n",
      "wm\n",
      "inflated\n",
      "inflated\n",
      "Started server on port 26965\n"
     ]
    }
   ],
   "source": [
    "subject = 'fsaverage'\n",
    "anat = cortex.db.get_anat(subject, 'raw')\n",
    "anat_data = anat.get_data()\n",
    "anat_vol = cortex.Volume.empty(subject, 'atlas_2mm')\n",
    "\n",
    "cortex.webgl.show(data=anat_vol, template='my_template.html', labels_visible=(\"\"), overlays_visible=(\"\"), recache=True)"
   ]
  },
  {
   "cell_type": "markdown",
   "metadata": {},
   "source": [
    "# Visualization of brain: Top 3 PCA of Neurosynth"
   ]
  },
  {
   "cell_type": "code",
   "execution_count": 2,
   "metadata": {},
   "outputs": [
    {
     "data": {
      "text/plain": [
       "(10, 902629)"
      ]
     },
     "execution_count": 2,
     "metadata": {},
     "output_type": "execute_result"
    }
   ],
   "source": [
    "comps = np.load('PCA/components.npz')['arr_0']\n",
    "comps = comps.transpose(0,3,2,1)\n",
    "comps.reshape(10,-1).shape"
   ]
  },
  {
   "cell_type": "code",
   "execution_count": 3,
   "metadata": {
    "code_folding": [
     0,
     17
    ]
   },
   "outputs": [],
   "source": [
    "def make_colorvol(proj, meanstds, rgbpcs, mask, flips=tuple(), clip_lim=3):\n",
    "    rgbdata = proj[rgbpcs,:]\n",
    "    for f in flips:\n",
    "        rgbdata[f] *= -1\n",
    "    zrgb = (rgbdata.T / meanstds).T\n",
    "    #zrgb = npp.rs(rgbdata.T).T\n",
    "    crgb = np.clip(zrgb, -clip_lim, clip_lim) ## clip to 3 standard deviations\n",
    "    srgb = crgb/clip_lim/2.0 + 0.5 ## scale to 0..1\n",
    "    \n",
    "    rgbvol = np.zeros([3]+list(mask.shape))\n",
    "    rgbvol[0] = vox_to_mask(srgb[0], mask)\n",
    "    rgbvol[1] = vox_to_mask(srgb[1], mask)\n",
    "    rgbvol[2] = vox_to_mask(srgb[2], mask)\n",
    "\n",
    "    colorvol = (rgbvol*255).astype(np.uint8)\n",
    "    return colorvol.transpose(1,2,3,0)\n",
    "\n",
    "def vox_to_mask(data, mask):\n",
    "    dvol = mask.copy().astype(np.float)\n",
    "    dvol[mask>0] = data\n",
    "    return dvol"
   ]
  },
  {
   "cell_type": "code",
   "execution_count": 4,
   "metadata": {},
   "outputs": [],
   "source": [
    "rescale = lambda x: x/x.std()"
   ]
  },
  {
   "cell_type": "code",
   "execution_count": 5,
   "metadata": {},
   "outputs": [],
   "source": [
    "flat_comps = comps.reshape(10,-1)\n",
    "\n",
    "colorvol = make_colorvol(flat_comps, flat_comps.std(1)[:3], [0,1,2], np.ones(comps[0].shape), clip_lim=4)"
   ]
  },
  {
   "cell_type": "code",
   "execution_count": 6,
   "metadata": {},
   "outputs": [],
   "source": [
    "rgbvol = cortex.dataset.normalize((colorvol, 'fsaverage', 'atlas_2mm'))\n",
    "rgbvol.alpha.vmin = 0"
   ]
  },
  {
   "cell_type": "code",
   "execution_count": 19,
   "metadata": {
    "code_folding": []
   },
   "outputs": [
    {
     "name": "stdout",
     "output_type": "stream",
     "text": [
      "Generating new ctm file...\n",
      "wm\n",
      "wm\n",
      "inflated\n",
      "inflated\n",
      "Started server on port 33808\n"
     ]
    },
    {
     "ename": "KeyboardInterrupt",
     "evalue": "",
     "output_type": "error",
     "traceback": [
      "\u001b[0;31m---------------------------------------------------------------------------\u001b[0m",
      "\u001b[0;31mKeyboardInterrupt\u001b[0m                         Traceback (most recent call last)",
      "\u001b[0;32m<ipython-input-19-65ef92315be8>\u001b[0m in \u001b[0;36m<module>\u001b[0;34m\u001b[0m\n\u001b[0;32m----> 1\u001b[0;31m \u001b[0mcortex\u001b[0m\u001b[0;34m.\u001b[0m\u001b[0mwebgl\u001b[0m\u001b[0;34m.\u001b[0m\u001b[0mshow\u001b[0m\u001b[0;34m(\u001b[0m\u001b[0mdata\u001b[0m\u001b[0;34m=\u001b[0m\u001b[0mrgbvol\u001b[0m\u001b[0;34m,\u001b[0m \u001b[0mtemplate\u001b[0m\u001b[0;34m=\u001b[0m\u001b[0;34m'my_template.html'\u001b[0m\u001b[0;34m,\u001b[0m \u001b[0mlabels_visible\u001b[0m\u001b[0;34m=\u001b[0m\u001b[0;34m(\u001b[0m\u001b[0;34m\"\"\u001b[0m\u001b[0;34m)\u001b[0m\u001b[0;34m,\u001b[0m \u001b[0moverlays_visible\u001b[0m\u001b[0;34m=\u001b[0m\u001b[0;34m(\u001b[0m\u001b[0;34m\"\"\u001b[0m\u001b[0;34m)\u001b[0m\u001b[0;34m,\u001b[0m \u001b[0mrecache\u001b[0m\u001b[0;34m=\u001b[0m\u001b[0;32mTrue\u001b[0m\u001b[0;34m)\u001b[0m\u001b[0;34m\u001b[0m\u001b[0m\n\u001b[0m\u001b[1;32m      2\u001b[0m \u001b[0;34m\u001b[0m\u001b[0m\n\u001b[1;32m      3\u001b[0m \u001b[0;31m# to make your own localhost server:\u001b[0m\u001b[0;34m\u001b[0m\u001b[0;34m\u001b[0m\u001b[0m\n\u001b[1;32m      4\u001b[0m \u001b[0;31m# cortex.webgl.make_static(\"static\",data=rgbvol, template='my_template.html', labels_visible=(\"\"), overlays_visible=(\"\"), recache=True)\u001b[0m\u001b[0;34m\u001b[0m\u001b[0;34m\u001b[0m\u001b[0m\n",
      "\u001b[0;32m~/Documents/GitHub/pycortex/env/lib/python3.6/site-packages/cortex/utils.py\u001b[0m in \u001b[0;36m__call__\u001b[0;34m(self, *args, **kwargs)\u001b[0m\n\u001b[1;32m     20\u001b[0m \u001b[0;34m\u001b[0m\u001b[0m\n\u001b[1;32m     21\u001b[0m     \u001b[0;32mdef\u001b[0m \u001b[0m__call__\u001b[0m\u001b[0;34m(\u001b[0m\u001b[0mself\u001b[0m\u001b[0;34m,\u001b[0m \u001b[0;34m*\u001b[0m\u001b[0margs\u001b[0m\u001b[0;34m,\u001b[0m \u001b[0;34m**\u001b[0m\u001b[0mkwargs\u001b[0m\u001b[0;34m)\u001b[0m\u001b[0;34m:\u001b[0m\u001b[0;34m\u001b[0m\u001b[0m\n\u001b[0;32m---> 22\u001b[0;31m         \u001b[0;32mreturn\u001b[0m \u001b[0mself\u001b[0m\u001b[0;34m.\u001b[0m\u001b[0m_load\u001b[0m\u001b[0;34m(\u001b[0m\u001b[0;34m)\u001b[0m\u001b[0;34m(\u001b[0m\u001b[0;34m*\u001b[0m\u001b[0margs\u001b[0m\u001b[0;34m,\u001b[0m \u001b[0;34m**\u001b[0m\u001b[0mkwargs\u001b[0m\u001b[0;34m)\u001b[0m\u001b[0;34m\u001b[0m\u001b[0m\n\u001b[0m\u001b[1;32m     23\u001b[0m \u001b[0;34m\u001b[0m\u001b[0m\n\u001b[1;32m     24\u001b[0m     \u001b[0;32mdef\u001b[0m \u001b[0m__getattribute__\u001b[0m\u001b[0;34m(\u001b[0m\u001b[0mself\u001b[0m\u001b[0;34m,\u001b[0m \u001b[0mname\u001b[0m\u001b[0;34m)\u001b[0m\u001b[0;34m:\u001b[0m\u001b[0;34m\u001b[0m\u001b[0m\n",
      "\u001b[0;32m~/Documents/GitHub/pycortex/env/lib/python3.6/site-packages/cortex/webgl/view.py\u001b[0m in \u001b[0;36mshow\u001b[0;34m(data, types, recache, cmap, layout, autoclose, open_browser, port, pickerfun, template, overlays_available, overlays_visible, labels_visible, overlay_file, title, **kwargs)\u001b[0m\n\u001b[1;32m    822\u001b[0m     \u001b[0;32mif\u001b[0m \u001b[0mopen_browser\u001b[0m\u001b[0;34m:\u001b[0m\u001b[0;34m\u001b[0m\u001b[0m\n\u001b[1;32m    823\u001b[0m         \u001b[0mwebbrowser\u001b[0m\u001b[0;34m.\u001b[0m\u001b[0mopen\u001b[0m\u001b[0;34m(\u001b[0m\u001b[0murl\u001b[0m\u001b[0;34m)\u001b[0m\u001b[0;34m\u001b[0m\u001b[0m\n\u001b[0;32m--> 824\u001b[0;31m         \u001b[0mclient\u001b[0m \u001b[0;34m=\u001b[0m \u001b[0mserver\u001b[0m\u001b[0;34m.\u001b[0m\u001b[0mget_client\u001b[0m\u001b[0;34m(\u001b[0m\u001b[0;34m)\u001b[0m\u001b[0;34m\u001b[0m\u001b[0m\n\u001b[0m\u001b[1;32m    825\u001b[0m         \u001b[0mclient\u001b[0m\u001b[0;34m.\u001b[0m\u001b[0mserver\u001b[0m \u001b[0;34m=\u001b[0m \u001b[0mserver\u001b[0m\u001b[0;34m\u001b[0m\u001b[0m\n\u001b[1;32m    826\u001b[0m         \u001b[0;32mreturn\u001b[0m \u001b[0mclient\u001b[0m\u001b[0;34m\u001b[0m\u001b[0m\n",
      "\u001b[0;32m~/Documents/GitHub/pycortex/env/lib/python3.6/site-packages/cortex/webgl/view.py\u001b[0m in \u001b[0;36mget_client\u001b[0;34m(self)\u001b[0m\n\u001b[1;32m    798\u001b[0m         \u001b[0mdisconnect_on_close\u001b[0m \u001b[0;34m=\u001b[0m \u001b[0mautoclose\u001b[0m\u001b[0;34m\u001b[0m\u001b[0m\n\u001b[1;32m    799\u001b[0m         \u001b[0;32mdef\u001b[0m \u001b[0mget_client\u001b[0m\u001b[0;34m(\u001b[0m\u001b[0mself\u001b[0m\u001b[0;34m)\u001b[0m\u001b[0;34m:\u001b[0m\u001b[0;34m\u001b[0m\u001b[0m\n\u001b[0;32m--> 800\u001b[0;31m             \u001b[0mself\u001b[0m\u001b[0;34m.\u001b[0m\u001b[0mconnect\u001b[0m\u001b[0;34m.\u001b[0m\u001b[0mwait\u001b[0m\u001b[0;34m(\u001b[0m\u001b[0;34m)\u001b[0m\u001b[0;34m\u001b[0m\u001b[0m\n\u001b[0m\u001b[1;32m    801\u001b[0m             \u001b[0mself\u001b[0m\u001b[0;34m.\u001b[0m\u001b[0mconnect\u001b[0m\u001b[0;34m.\u001b[0m\u001b[0mclear\u001b[0m\u001b[0;34m(\u001b[0m\u001b[0;34m)\u001b[0m\u001b[0;34m\u001b[0m\u001b[0m\n\u001b[1;32m    802\u001b[0m             \u001b[0;32mreturn\u001b[0m \u001b[0mJSMixer\u001b[0m\u001b[0;34m(\u001b[0m\u001b[0mself\u001b[0m\u001b[0;34m.\u001b[0m\u001b[0msend\u001b[0m\u001b[0;34m,\u001b[0m \u001b[0;34m\"window.viewer\"\u001b[0m\u001b[0;34m)\u001b[0m\u001b[0;34m\u001b[0m\u001b[0m\n",
      "\u001b[0;32m/Library/Frameworks/Python.framework/Versions/3.6/lib/python3.6/threading.py\u001b[0m in \u001b[0;36mwait\u001b[0;34m(self, timeout)\u001b[0m\n\u001b[1;32m    549\u001b[0m             \u001b[0msignaled\u001b[0m \u001b[0;34m=\u001b[0m \u001b[0mself\u001b[0m\u001b[0;34m.\u001b[0m\u001b[0m_flag\u001b[0m\u001b[0;34m\u001b[0m\u001b[0m\n\u001b[1;32m    550\u001b[0m             \u001b[0;32mif\u001b[0m \u001b[0;32mnot\u001b[0m \u001b[0msignaled\u001b[0m\u001b[0;34m:\u001b[0m\u001b[0;34m\u001b[0m\u001b[0m\n\u001b[0;32m--> 551\u001b[0;31m                 \u001b[0msignaled\u001b[0m \u001b[0;34m=\u001b[0m \u001b[0mself\u001b[0m\u001b[0;34m.\u001b[0m\u001b[0m_cond\u001b[0m\u001b[0;34m.\u001b[0m\u001b[0mwait\u001b[0m\u001b[0;34m(\u001b[0m\u001b[0mtimeout\u001b[0m\u001b[0;34m)\u001b[0m\u001b[0;34m\u001b[0m\u001b[0m\n\u001b[0m\u001b[1;32m    552\u001b[0m             \u001b[0;32mreturn\u001b[0m \u001b[0msignaled\u001b[0m\u001b[0;34m\u001b[0m\u001b[0m\n\u001b[1;32m    553\u001b[0m \u001b[0;34m\u001b[0m\u001b[0m\n",
      "\u001b[0;32m/Library/Frameworks/Python.framework/Versions/3.6/lib/python3.6/threading.py\u001b[0m in \u001b[0;36mwait\u001b[0;34m(self, timeout)\u001b[0m\n\u001b[1;32m    293\u001b[0m         \u001b[0;32mtry\u001b[0m\u001b[0;34m:\u001b[0m    \u001b[0;31m# restore state no matter what (e.g., KeyboardInterrupt)\u001b[0m\u001b[0;34m\u001b[0m\u001b[0m\n\u001b[1;32m    294\u001b[0m             \u001b[0;32mif\u001b[0m \u001b[0mtimeout\u001b[0m \u001b[0;32mis\u001b[0m \u001b[0;32mNone\u001b[0m\u001b[0;34m:\u001b[0m\u001b[0;34m\u001b[0m\u001b[0m\n\u001b[0;32m--> 295\u001b[0;31m                 \u001b[0mwaiter\u001b[0m\u001b[0;34m.\u001b[0m\u001b[0macquire\u001b[0m\u001b[0;34m(\u001b[0m\u001b[0;34m)\u001b[0m\u001b[0;34m\u001b[0m\u001b[0m\n\u001b[0m\u001b[1;32m    296\u001b[0m                 \u001b[0mgotit\u001b[0m \u001b[0;34m=\u001b[0m \u001b[0;32mTrue\u001b[0m\u001b[0;34m\u001b[0m\u001b[0m\n\u001b[1;32m    297\u001b[0m             \u001b[0;32melse\u001b[0m\u001b[0;34m:\u001b[0m\u001b[0;34m\u001b[0m\u001b[0m\n",
      "\u001b[0;31mKeyboardInterrupt\u001b[0m: "
     ]
    }
   ],
   "source": [
    "# cortex.webgl.show(data=rgbvol, template='my_template.html', labels_visible=(\"\"), overlays_visible=(\"\"), recache=True)\n",
    "\n",
    "# to make your own localhost server:\n",
    "cortex.webgl.make_static(\"static\",data=rgbvol, template='my_template.html', labels_visible=(\"\"), overlays_visible=(\"\"), recache=True)"
   ]
  },
  {
   "cell_type": "markdown",
   "metadata": {},
   "source": [
    "# Individual PCAs"
   ]
  },
  {
   "cell_type": "code",
   "execution_count": 68,
   "metadata": {},
   "outputs": [],
   "source": [
    "concat_maps = pickle_load(\"PCA/concat_maps.p\")"
   ]
  },
  {
   "cell_type": "code",
   "execution_count": 69,
   "metadata": {
    "scrolled": false
   },
   "outputs": [
    {
     "name": "stdout",
     "output_type": "stream",
     "text": [
      "[0.10724451 0.07186315 0.04695774 0.03718591 0.03011859 0.02566107\n",
      " 0.01888798 0.01386358 0.01315753 0.01177422]\n",
      "[7371.67572625 6034.36808339 4877.89306864 4340.78108748 3906.57327303\n",
      " 3605.9198214  3093.65168398 2650.43018107 2582.05703612 2442.5570153 ]\n"
     ]
    }
   ],
   "source": [
    "ncomp = 10\n",
    "pca = PCA(copy=True, iterated_power='auto', n_components=ncomp, random_state=None,\n",
    "  svd_solver='randomized', tol=0.0, whiten=False).fit(concat_maps)\n",
    "print(pca.explained_variance_ratio_)  \n",
    "print(pca.singular_values_)"
   ]
  },
  {
   "cell_type": "code",
   "execution_count": 70,
   "metadata": {},
   "outputs": [],
   "source": [
    "# this is a list of all neurosynth terms\n",
    "terms = pandas.read_csv('PCA/analysis_filter_list.tsv',delimiter='\\t')\n",
    "# but we're only interested in the terms that are non-anatomical\n",
    "terms_anatfilter = pandas.read_csv('PCA/neurosynth_terms_anatfilter.txt',delimiter='\\t')\n",
    "\n",
    "# only keep terms that have a 'keep' value of 1 and n 'anatomical' value of 0\n",
    "kept_terms_anatfilter = terms_anatfilter['term'][np.logical_and(terms_anatfilter['keep']==1, terms_anatfilter['anatomical']==0)]\n",
    "# we will take these terms and find their location in a list that is ordered alphabetically\n",
    "kept_terms = terms['term'][terms['keep']==1]\n",
    "anatfilter_indices = [i for i,k in enumerate(list(kept_terms)) if k in list(kept_terms_anatfilter)]\n",
    "kept_terms_anatfilter = kept_terms.iloc[anatfilter_indices]\n",
    "\n",
    "concat_maps_anatfilter = concat_maps[anatfilter_indices]"
   ]
  },
  {
   "cell_type": "code",
   "execution_count": 71,
   "metadata": {
    "scrolled": true
   },
   "outputs": [],
   "source": [
    "components = np.array([dataset.masker.unmask(pca.components_[i],output='array') for i in range(ncomp)])\n",
    "# np.savez('PCA/components',components)\n",
    "# components = np.load(\"PCA/components.npz\")"
   ]
  },
  {
   "cell_type": "code",
   "execution_count": 72,
   "metadata": {},
   "outputs": [],
   "source": [
    "term_weights = pca.transform(concat_maps_anatfilter)\n",
    "# term_weights = np.load(\"PCA/term_weights.npz\")['arr_0']"
   ]
  },
  {
   "cell_type": "code",
   "execution_count": 112,
   "metadata": {},
   "outputs": [
    {
     "name": "stdout",
     "output_type": "stream",
     "text": [
      "\n",
      " 0\n",
      "motor\n",
      "1317.6320905496177\n",
      "movements\n",
      "1082.6326032585494\n",
      "movement\n",
      "900.2029858277143\n",
      "hand\n",
      "887.2103314246036\n",
      "finger\n",
      "861.8239098595906\n",
      "\n",
      "\n",
      "emotional\n",
      "-608.1144302912776\n",
      "negative\n",
      "-514.7500530939691\n",
      "reward\n",
      "-500.44840115908005\n",
      "social\n",
      "-465.5854168413259\n",
      "neutral\n",
      "-448.30683321387113\n",
      "\n",
      " 1\n",
      "semantic\n",
      "633.6148278762525\n",
      "language\n",
      "629.3179671473943\n",
      "words\n",
      "615.9370102636225\n",
      "visual\n",
      "603.6445620205632\n",
      "word\n",
      "595.8302894678343\n",
      "\n",
      "\n",
      "pain\n",
      "-605.0312709256932\n",
      "motor\n",
      "-578.6276868825615\n",
      "reward\n",
      "-496.64057976804315\n",
      "finger\n",
      "-444.4839686401221\n",
      "movement\n",
      "-434.66160568566374\n",
      "\n",
      " 2\n",
      "auditory\n",
      "813.2986947960751\n",
      "speech\n",
      "679.48458442428\n",
      "sounds\n",
      "590.4998322822294\n",
      "listening\n",
      "517.4453536556493\n",
      "acoustic\n",
      "465.65334047620195\n",
      "\n",
      "\n",
      "memory\n",
      "-623.852572846215\n",
      "task\n",
      "-589.5702804802609\n",
      "retrieval\n",
      "-466.03949657232926\n",
      "working memory\n",
      "-452.0013096511467\n",
      "working\n",
      "-448.105861236009\n",
      "\n",
      " 3\n",
      "visual\n",
      "383.39499998676183\n",
      "motion\n",
      "356.8537604490542\n",
      "object\n",
      "310.5796624466409\n",
      "spatial\n",
      "282.95892229130527\n",
      "faces\n",
      "277.5914845695568\n",
      "\n",
      "\n",
      "auditory\n",
      "-413.6016411663783\n",
      "semantic\n",
      "-404.19773857993283\n",
      "autobiographical\n",
      "-393.7733882738198\n",
      "pain\n",
      "-385.7108743428534\n",
      "speech\n",
      "-384.8124588226231\n",
      "\n",
      " 4\n",
      "faces\n",
      "478.5201536602994\n",
      "face\n",
      "460.5134043963681\n",
      "visual\n",
      "436.61990061407823\n",
      "objects\n",
      "330.60109321859517\n",
      "viewing\n",
      "316.81684374358434\n",
      "\n",
      "\n",
      "working memory\n",
      "-313.9826218278055\n",
      "working\n",
      "-303.39719600662505\n",
      "auditory\n",
      "-300.2788995754408\n",
      "cognitive control\n",
      "-272.4012835372599\n",
      "speech\n",
      "-267.6659576499231\n",
      "\n",
      " 5\n",
      "default\n",
      "593.8154493921824\n",
      "default mode\n",
      "548.2583229834576\n",
      "resting\n",
      "547.4276496635673\n",
      "resting state\n",
      "543.6450257232843\n",
      "dmn\n",
      "463.32406318866583\n",
      "\n",
      "\n",
      "reward\n",
      "-434.02234345083775\n",
      "face\n",
      "-293.65806387246045\n",
      "monetary\n",
      "-292.1518753780156\n",
      "faces\n",
      "-284.24351017533075\n",
      "anticipation\n",
      "-271.10198399419505\n",
      "\n",
      " 6\n",
      "memory\n",
      "341.12075788692016\n",
      "vermis\n",
      "266.72698820493446\n",
      "verbal\n",
      "228.14723557401678\n",
      "encoding\n",
      "226.81637821233602\n",
      "episodic memory\n",
      "210.87553085509177\n",
      "\n",
      "\n",
      "social\n",
      "-395.53254098624376\n",
      "theory mind\n",
      "-312.6340050540346\n",
      "mentalizing\n",
      "-279.9375416582245\n",
      "mind tom\n",
      "-264.73743488464333\n",
      "action\n",
      "-262.94520796219376\n",
      "\n",
      " 7\n",
      "auditory\n",
      "489.2402842983975\n",
      "sounds\n",
      "328.5237672438585\n",
      "listening\n",
      "253.46413928106153\n",
      "acoustic\n",
      "249.67418624142292\n",
      "spatial\n",
      "249.3666294511856\n",
      "\n",
      "\n",
      "word\n",
      "-260.2956736770945\n",
      "reading\n",
      "-252.227973569271\n",
      "semantic\n",
      "-242.123309396574\n",
      "words\n",
      "-240.11623965578036\n",
      "language\n",
      "-215.61750050846078\n",
      "\n",
      " 8\n",
      "reward\n",
      "388.63896505930336\n",
      "monetary\n",
      "320.3708628501344\n",
      "incentive\n",
      "255.61452907499293\n",
      "incentive delay\n",
      "245.15185812191527\n",
      "monetary incentive\n",
      "230.2087900471551\n",
      "\n",
      "\n",
      "pain\n",
      "-423.28642027525825\n",
      "painful\n",
      "-345.9588411650252\n",
      "noxious\n",
      "-294.94457565308926\n",
      "nociceptive\n",
      "-265.47356302785926\n",
      "stimulation\n",
      "-247.34292323392245\n",
      "\n",
      " 9\n",
      "vermis\n",
      "472.74310262544213\n",
      "conditioning\n",
      "205.52085492449152\n",
      "verbal working\n",
      "176.99278765634855\n",
      "cognitive task\n",
      "159.21250419218097\n",
      "conditioned\n",
      "153.8244267751307\n",
      "\n",
      "\n",
      "retrieval\n",
      "-201.14191770526602\n",
      "episodic\n",
      "-170.18831970853785\n",
      "finger\n",
      "-148.44617225051454\n",
      "episodic memory\n",
      "-146.87600924120105\n",
      "recollection\n",
      "-144.28122192017628\n"
     ]
    }
   ],
   "source": [
    "for i in range(ncomp):\n",
    "    a = term_weights[:,i].argsort()[::-1];\n",
    "    print('\\n',i);\n",
    "    for j in range(5):\n",
    "        print(kept_terms_anatfilter.iloc[a[j]]);\n",
    "        print(term_weights[a[j],i]);\n",
    "    print('\\n')\n",
    "    for k in range(5):\n",
    "        print(kept_terms_anatfilter.iloc[a[-(k+1)]]);\n",
    "        print(term_weights[a[-(k+1)],i]);"
   ]
  },
  {
   "cell_type": "markdown",
   "metadata": {},
   "source": [
    "## Anatomical labels"
   ]
  },
  {
   "cell_type": "code",
   "execution_count": 7,
   "metadata": {},
   "outputs": [],
   "source": [
    "# load atlas\n",
    "lh_aparc_file = os.path.join('atlases','lh.HCP-MMP1.annot')\n",
    "rh_aparc_file = os.path.join('atlases','rh.HCP-MMP1.annot')\n",
    "lpinds, lpstats, lpnames = nib.freesurfer.read_annot(lh_aparc_file)\n",
    "lpinds_orig, lpstats, lpnames = nib.freesurfer.read_annot(lh_aparc_file, True)\n",
    "lpinds[lpinds_orig==0] = -1\n",
    "rpinds, rpstats, rpnames = nib.freesurfer.read_annot(rh_aparc_file)\n",
    "rpinds_orig, rpstats, rpnames = nib.freesurfer.read_annot(rh_aparc_file, True)\n",
    "rpinds[rpinds_orig==0] = -1\n",
    "\n",
    "aparc = cortex.Vertex(np.hstack([lpinds, rpinds]),'fsaverage')"
   ]
  }
 ],
 "metadata": {
  "kernelspec": {
   "display_name": "Python 3",
   "language": "python",
   "name": "python3"
  },
  "language_info": {
   "codemirror_mode": {
    "name": "ipython",
    "version": 3
   },
   "file_extension": ".py",
   "mimetype": "text/x-python",
   "name": "python",
   "nbconvert_exporter": "python",
   "pygments_lexer": "ipython3",
   "version": "3.6.4"
  },
  "toc": {
   "nav_menu": {},
   "number_sections": true,
   "sideBar": true,
   "skip_h1_title": false,
   "toc_cell": false,
   "toc_position": {},
   "toc_section_display": "block",
   "toc_window_display": false
  },
  "varInspector": {
   "cols": {
    "lenName": 16,
    "lenType": 16,
    "lenVar": 40
   },
   "kernels_config": {
    "python": {
     "delete_cmd_postfix": "",
     "delete_cmd_prefix": "del ",
     "library": "var_list.py",
     "varRefreshCmd": "print(var_dic_list())"
    },
    "r": {
     "delete_cmd_postfix": ") ",
     "delete_cmd_prefix": "rm(",
     "library": "var_list.r",
     "varRefreshCmd": "cat(var_dic_list()) "
    }
   },
   "types_to_exclude": [
    "module",
    "function",
    "builtin_function_or_method",
    "instance",
    "_Feature"
   ],
   "window_display": false
  }
 },
 "nbformat": 4,
 "nbformat_minor": 2
}
